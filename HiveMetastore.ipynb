{
 "cells": [
  {
   "cell_type": "code",
   "execution_count": 1,
   "id": "ee8041da-99bf-4021-b156-df4e799dc579",
   "metadata": {},
   "outputs": [],
   "source": [
    "from pyspark.sql import SparkSession\n",
    "\n",
    "spark = SparkSession \\\n",
    "        .builder \\\n",
    "        .appName(\"myapp\") \\\n",
    "        .master(\"local\") \\\n",
    "        .config(\"spark.executor.memory\", \"1g\") \\\n",
    "        .config(\"spark.mongodb.input.uri\",\"mongodb://172.17.0.2:27017\") \\\n",
    "        .config(\"spark.mongodb.output.uri\",\"mongodb://172.17.0.2:27017\") \\\n",
    "        .config(\"spark.jars.packages\",\"org.mongodb.spark:mongo-spark-connector_2.12:3.0.0\") \\\n",
    "        .enableHiveSupport() \\\n",
    "        .getOrCreate()"
   ]
  },
  {
   "cell_type": "code",
   "execution_count": 2,
   "id": "d5f9668e-a69c-4c5e-9bd3-cd13744fea6f",
   "metadata": {},
   "outputs": [
    {
     "name": "stdout",
     "output_type": "stream",
     "text": [
      "# spark.app.name =  myapp\n",
      "# spark.master =  local\n",
      "# spark.executor.memory =  1g\n",
      "# spark.sql.warehouse.dir =  file:/home/jovyan/HiveMetastore/spark-warehouse\n",
      "# spark.sql.catalogImplementation =  hive\n"
     ]
    }
   ],
   "source": [
    "conf = spark.sparkContext.getConf()\n",
    "print(\"# spark.app.name = \", conf.get(\"spark.app.name\"))\n",
    "print(\"# spark.master = \", conf.get(\"spark.master\"))\n",
    "print(\"# spark.executor.memory = \", conf.get(\"spark.executor.memory\"))\n",
    "print(\"# spark.sql.warehouse.dir = \", conf.get(\"spark.sql.warehouse.dir\"))\n",
    "print(\"# spark.sql.catalogImplementation = \", conf.get(\"spark.sql.catalogImplementation\"))"
   ]
  },
  {
   "cell_type": "code",
   "execution_count": 3,
   "id": "accfbce7-7c4d-4363-a589-c9b0ad14fbcd",
   "metadata": {},
   "outputs": [],
   "source": [
    "df = spark.read.format(\"mongo\") \\\n",
    "               .option(\"database\",\"test\") \\\n",
    "               .option(\"collection\",\"products\") \\\n",
    "               .load()"
   ]
  },
  {
   "cell_type": "code",
   "execution_count": 4,
   "id": "60b77e1c-3fb6-425d-91dd-5934ed03f55e",
   "metadata": {},
   "outputs": [],
   "source": [
    "df.write.mode(\"overwrite\").saveAsTable(\"products_new\")"
   ]
  },
  {
   "cell_type": "code",
   "execution_count": 5,
   "id": "fcd5ae3a-ba7f-48df-be23-2ef5433c3c58",
   "metadata": {},
   "outputs": [
    {
     "name": "stdout",
     "output_type": "stream",
     "text": [
      "+----------------------------+--------------------------------------------------------------+-------+\n",
      "|                    col_name|                                                     data_type|comment|\n",
      "+----------------------------+--------------------------------------------------------------+-------+\n",
      "|                   ListPrice|                                                        double|   null|\n",
      "|                    MakeFlag|                                                           int|   null|\n",
      "|                   ModelName|                                                        string|   null|\n",
      "|                   ProductID|                                                           int|   null|\n",
      "|                 ProductName|                                                        string|   null|\n",
      "|               ProductNumber|                                                        string|   null|\n",
      "|                StandardCost|                                                        double|   null|\n",
      "|               SubCategoryID|                                                           int|   null|\n",
      "|                         _id|                                            struct<oid:string>|   null|\n",
      "|                            |                                                              |       |\n",
      "|# Detailed Table Information|                                                              |       |\n",
      "|                    Database|                                                       default|       |\n",
      "|                       Table|                                                  products_new|       |\n",
      "|                       Owner|                                                        jovyan|       |\n",
      "|                Created Time|                                  Mon May 15 06:08:45 UTC 2023|       |\n",
      "|                 Last Access|                                                       UNKNOWN|       |\n",
      "|                  Created By|                                                   Spark 3.2.1|       |\n",
      "|                        Type|                                                       MANAGED|       |\n",
      "|                    Provider|                                                       parquet|       |\n",
      "|                  Statistics|                                                   13395 bytes|       |\n",
      "|                    Location|  file:/home/jovyan/HiveMetastore/spark-warehouse/products_new|       |\n",
      "|               Serde Library|   org.apache.hadoop.hive.ql.io.parquet.serde.ParquetHiveSerDe|       |\n",
      "|                 InputFormat| org.apache.hadoop.hive.ql.io.parquet.MapredParquetInputFormat|       |\n",
      "|                OutputFormat|org.apache.hadoop.hive.ql.io.parquet.MapredParquetOutputFormat|       |\n",
      "+----------------------------+--------------------------------------------------------------+-------+\n",
      "\n"
     ]
    }
   ],
   "source": [
    "spark.sql(\"DESCRIBE EXTENDED products_new\").show(100,100)"
   ]
  },
  {
   "cell_type": "code",
   "execution_count": 6,
   "id": "ec8f64ed-a67a-4df6-b3d0-dbd3516e1264",
   "metadata": {},
   "outputs": [
    {
     "name": "stdout",
     "output_type": "stream",
     "text": [
      "total 28\n",
      "-rw-r--r-- 1 jovyan users    4 May 15 06:08 dbex.lck\n",
      "-rw-r--r-- 1 jovyan users   38 May 15 06:08 db.lck\n",
      "drwxr-sr-x 2 jovyan users 4096 May 15 06:08 \u001b[0m\u001b[01;34mlog\u001b[0m/\n",
      "-rw-r--r-- 1 jovyan users  608 May 15 06:08 README_DO_NOT_TOUCH_FILES.txt\n",
      "drwxr-sr-x 2 jovyan users 4096 May 15 06:08 \u001b[01;34mseg0\u001b[0m/\n",
      "-rw-r--r-- 1 jovyan users  918 May 15 06:08 service.properties\n",
      "drwxr-sr-x 2 jovyan users 4096 May 15 06:08 \u001b[01;34mtmp\u001b[0m/\n"
     ]
    }
   ],
   "source": [
    "%ls -l metastore_db/"
   ]
  },
  {
   "cell_type": "code",
   "execution_count": 7,
   "id": "e1966c74-c4c5-4964-a606-51b086ae3686",
   "metadata": {},
   "outputs": [
    {
     "name": "stdout",
     "output_type": "stream",
     "text": [
      "total 4\n",
      "drwxr-sr-x 2 jovyan users 4096 May 15 06:08 \u001b[0m\u001b[01;34mproducts_new\u001b[0m/\n"
     ]
    }
   ],
   "source": [
    "%ls -l spark-warehouse/"
   ]
  },
  {
   "cell_type": "code",
   "execution_count": 8,
   "id": "60feca12-ecc2-4783-a533-0aa399aa87d8",
   "metadata": {},
   "outputs": [
    {
     "name": "stdout",
     "output_type": "stream",
     "text": [
      "total 16\n",
      "-rw-r--r-- 1 jovyan users 13395 May 15 06:08 part-00000-00968bde-5527-4ec5-9548-f0099af56786-c000.snappy.parquet\n",
      "-rw-r--r-- 1 jovyan users     0 May 15 06:08 _SUCCESS\n"
     ]
    }
   ],
   "source": [
    "%ls -l spark-warehouse/products_new"
   ]
  },
  {
   "cell_type": "code",
   "execution_count": 9,
   "id": "18bcc299-0129-457d-9fbb-0f574f27aa8c",
   "metadata": {},
   "outputs": [
    {
     "name": "stdout",
     "output_type": "stream",
     "text": [
      "----------------------------------------------------------------\n",
      "Mon May 15 06:08:37 UTC 2023:\n",
      "Booting Derby version The Apache Software Foundation - Apache Derby - 10.14.2.0 - (1828579): instance a816c00e-0188-1e06-6cab-000003ef5c00 \n",
      "on database directory /home/jovyan/HiveMetastore/metastore_db with class loader jdk.internal.loader.ClassLoaders$AppClassLoader@5ffd2b27 \n",
      "Loaded from file:/usr/local/spark-3.2.1-bin-hadoop3.2/jars/derby-10.14.2.0.jar\n",
      "java.vendor=Ubuntu\n",
      "java.runtime.version=11.0.13+8-Ubuntu-0ubuntu1.20.04\n",
      "user.dir=/home/jovyan/HiveMetastore\n",
      "os.name=Linux\n",
      "os.arch=amd64\n",
      "os.version=5.4.0-139-generic\n",
      "derby.system.home=null\n",
      "Database Class Loader started - derby.database.classpath=''\n"
     ]
    }
   ],
   "source": [
    "%cat derby.log"
   ]
  },
  {
   "cell_type": "code",
   "execution_count": 10,
   "id": "5515f10d-f0e1-43ae-ab2a-781d132b5dc9",
   "metadata": {},
   "outputs": [
    {
     "name": "stdout",
     "output_type": "stream",
     "text": [
      "+---------+--------+---------+---------+----------------+-------------+------------+-------------+--------------------+\n",
      "|ListPrice|MakeFlag|ModelName|ProductID|     ProductName|ProductNumber|StandardCost|SubCategoryID|                 _id|\n",
      "+---------+--------+---------+---------+----------------+-------------+------------+-------------+--------------------+\n",
      "|  3578.27|       1| Road-150|      749|Road-150 Red, 62|   BK-R93R-62|   2171.2942|            2|{6461c642c7456de4...|\n",
      "|  3578.27|       1| Road-150|      750|Road-150 Red, 44|   BK-R93R-44|   2171.2942|            2|{6461c642c7456de4...|\n",
      "|  3578.27|       1| Road-150|      751|Road-150 Red, 48|   BK-R93R-48|   2171.2942|            2|{6461c642c7456de4...|\n",
      "|  3578.27|       1| Road-150|      752|Road-150 Red, 52|   BK-R93R-52|   2171.2942|            2|{6461c642c7456de4...|\n",
      "|  3578.27|       1| Road-150|      753|Road-150 Red, 56|   BK-R93R-56|   2171.2942|            2|{6461c642c7456de4...|\n",
      "+---------+--------+---------+---------+----------------+-------------+------------+-------------+--------------------+\n",
      "\n"
     ]
    }
   ],
   "source": [
    "spark.sql(\"SELECT * FROM products_new WHERE StandardCost > 2000\").show()"
   ]
  },
  {
   "cell_type": "code",
   "execution_count": 11,
   "id": "30d86310-31bc-4c71-93e3-4d46bee0ccc9",
   "metadata": {},
   "outputs": [
    {
     "data": {
      "text/plain": [
       "DataFrame[]"
      ]
     },
     "execution_count": 11,
     "metadata": {},
     "output_type": "execute_result"
    }
   ],
   "source": [
    "spark.sql(\"DROP TABLE products_new\")"
   ]
  },
  {
   "cell_type": "code",
   "execution_count": 12,
   "id": "dbdbf439-756c-47ee-bd91-d58a60c6d43f",
   "metadata": {},
   "outputs": [
    {
     "name": "stdout",
     "output_type": "stream",
     "text": [
      "total 0\n"
     ]
    }
   ],
   "source": [
    "%ls -l spark-warehouse/"
   ]
  },
  {
   "cell_type": "code",
   "execution_count": 13,
   "id": "7150873d-495d-4dd5-b2cb-0002f60b8597",
   "metadata": {},
   "outputs": [],
   "source": [
    "df.write.mode(\"overwrite\").saveAsTable(\"products_new\")"
   ]
  },
  {
   "cell_type": "code",
   "execution_count": 14,
   "id": "85b855d1-4796-4b76-9911-b50efd36c6d0",
   "metadata": {},
   "outputs": [
    {
     "name": "stdout",
     "output_type": "stream",
     "text": [
      "total 16\n",
      "-rw-r--r-- 1 jovyan users 13395 May 15 06:09 part-00000-33e0f524-2e49-4af2-afe7-035cf5823065-c000.snappy.parquet\n",
      "-rw-r--r-- 1 jovyan users     0 May 15 06:09 _SUCCESS\n"
     ]
    }
   ],
   "source": [
    "%ls -l spark-warehouse/products_new"
   ]
  },
  {
   "cell_type": "code",
   "execution_count": 15,
   "id": "01416102-bdae-4de0-b022-181efdc1b36c",
   "metadata": {},
   "outputs": [],
   "source": [
    "spark.stop()"
   ]
  },
  {
   "cell_type": "code",
   "execution_count": 16,
   "id": "bfdfeb30-323b-4f11-a03f-8ae1da3507a7",
   "metadata": {},
   "outputs": [],
   "source": [
    "from pyspark.sql import SparkSession\n",
    "\n",
    "spark = SparkSession \\\n",
    "        .builder \\\n",
    "        .appName(\"myapp\") \\\n",
    "        .master(\"local\") \\\n",
    "        .config(\"spark.executor.memory\", \"1g\") \\\n",
    "        .config(\"spark.mongodb.input.uri\",\"mongodb://172.17.0.3:27017\") \\\n",
    "        .config(\"spark.mongodb.output.uri\",\"mongodb://172.17.0.3:27017\") \\\n",
    "        .config(\"spark.jars.packages\",\"org.mongodb.spark:mongo-spark-connector_2.12:3.0.0\") \\\n",
    "        .enableHiveSupport() \\\n",
    "        .getOrCreate()"
   ]
  },
  {
   "cell_type": "code",
   "execution_count": 17,
   "id": "97f5e182-1be4-4756-8bb1-612996532e7f",
   "metadata": {},
   "outputs": [
    {
     "name": "stdout",
     "output_type": "stream",
     "text": [
      "+---------+--------+---------+---------+----------------+-------------+------------+-------------+--------------------+\n",
      "|ListPrice|MakeFlag|ModelName|ProductID|     ProductName|ProductNumber|StandardCost|SubCategoryID|                 _id|\n",
      "+---------+--------+---------+---------+----------------+-------------+------------+-------------+--------------------+\n",
      "|  3578.27|       1| Road-150|      749|Road-150 Red, 62|   BK-R93R-62|   2171.2942|            2|{6461c642c7456de4...|\n",
      "|  3578.27|       1| Road-150|      750|Road-150 Red, 44|   BK-R93R-44|   2171.2942|            2|{6461c642c7456de4...|\n",
      "|  3578.27|       1| Road-150|      751|Road-150 Red, 48|   BK-R93R-48|   2171.2942|            2|{6461c642c7456de4...|\n",
      "|  3578.27|       1| Road-150|      752|Road-150 Red, 52|   BK-R93R-52|   2171.2942|            2|{6461c642c7456de4...|\n",
      "|  3578.27|       1| Road-150|      753|Road-150 Red, 56|   BK-R93R-56|   2171.2942|            2|{6461c642c7456de4...|\n",
      "+---------+--------+---------+---------+----------------+-------------+------------+-------------+--------------------+\n",
      "\n"
     ]
    }
   ],
   "source": [
    "spark.sql(\"SELECT * FROM products_new WHERE StandardCost > 2000\").show()"
   ]
  },
  {
   "cell_type": "code",
   "execution_count": null,
   "id": "e990c8ae-e2ef-4dba-9735-b25b9900f83c",
   "metadata": {},
   "outputs": [],
   "source": []
  }
 ],
 "metadata": {
  "kernelspec": {
   "display_name": "Python 3 (ipykernel)",
   "language": "python",
   "name": "python3"
  },
  "language_info": {
   "codemirror_mode": {
    "name": "ipython",
    "version": 3
   },
   "file_extension": ".py",
   "mimetype": "text/x-python",
   "name": "python",
   "nbconvert_exporter": "python",
   "pygments_lexer": "ipython3",
   "version": "3.9.7"
  }
 },
 "nbformat": 4,
 "nbformat_minor": 5
}
