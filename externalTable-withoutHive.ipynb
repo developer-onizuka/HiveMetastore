{
 "cells": [
  {
   "cell_type": "code",
   "execution_count": 1,
   "id": "9a7d73e8-0c06-49e1-b5bb-344910c8a5a0",
   "metadata": {},
   "outputs": [],
   "source": [
    "from pyspark.sql import SparkSession\n",
    "\n",
    "spark = SparkSession \\\n",
    "        .builder \\\n",
    "        .appName(\"myapp\") \\\n",
    "        .master(\"local\") \\\n",
    "        .config(\"spark.executor.memory\", \"1g\") \\\n",
    "        .config(\"spark.mongodb.input.uri\",\"mongodb://172.17.0.2:27017\") \\\n",
    "        .config(\"spark.mongodb.output.uri\",\"mongodb://172.17.0.2:27017\") \\\n",
    "        .config(\"spark.jars.packages\",\"org.mongodb.spark:mongo-spark-connector_2.12:3.0.0\") \\\n",
    "        .getOrCreate()"
   ]
  },
  {
   "cell_type": "code",
   "execution_count": 2,
   "id": "0a78b671-b4c8-4fe3-af90-157ac70b286d",
   "metadata": {},
   "outputs": [
    {
     "name": "stdout",
     "output_type": "stream",
     "text": [
      "# spark.app.name =  myapp\n",
      "# spark.master =  local\n",
      "# spark.executor.memory =  1g\n",
      "# spark.sql.warehouse.dir =  file:/home/jovyan/HiveMetastore/spark-warehouse\n",
      "# spark.sql.catalogImplementation =  None\n"
     ]
    }
   ],
   "source": [
    "conf = spark.sparkContext.getConf()\n",
    "print(\"# spark.app.name = \", conf.get(\"spark.app.name\"))\n",
    "print(\"# spark.master = \", conf.get(\"spark.master\"))\n",
    "print(\"# spark.executor.memory = \", conf.get(\"spark.executor.memory\"))\n",
    "print(\"# spark.sql.warehouse.dir = \", conf.get(\"spark.sql.warehouse.dir\"))\n",
    "print(\"# spark.sql.catalogImplementation = \", conf.get(\"spark.sql.catalogImplementation\"))"
   ]
  },
  {
   "cell_type": "code",
   "execution_count": 3,
   "id": "1f9181e9-03d4-4a5a-b740-856dc9ab1194",
   "metadata": {},
   "outputs": [],
   "source": [
    "df = spark.read.format(\"mongo\") \\\n",
    "               .option(\"database\",\"test\") \\\n",
    "               .option(\"collection\",\"products\") \\\n",
    "               .load()"
   ]
  },
  {
   "cell_type": "code",
   "execution_count": 4,
   "id": "7c93742a-1b23-4cd0-a9d4-84a1d38b466c",
   "metadata": {},
   "outputs": [],
   "source": [
    "df.write.mode(\"overwrite\").save(\"products_new\")"
   ]
  },
  {
   "cell_type": "code",
   "execution_count": 5,
   "id": "7daf5cd6-faad-4ebe-8f47-517eeefe3491",
   "metadata": {},
   "outputs": [
    {
     "data": {
      "text/plain": [
       "DataFrame[]"
      ]
     },
     "execution_count": 5,
     "metadata": {},
     "output_type": "execute_result"
    }
   ],
   "source": [
    "spark.sql(\"CREATE EXTERNAL TABLE external_products USING parquet LOCATION '/home/jovyan/HiveMetastore/products_new'\")"
   ]
  },
  {
   "cell_type": "code",
   "execution_count": 6,
   "id": "40a10ade-2fe9-49fc-a3d5-81f8eb039e70",
   "metadata": {},
   "outputs": [
    {
     "name": "stdout",
     "output_type": "stream",
     "text": [
      "+---------+--------+--------------------+---------+--------------------+-------------+------------+-------------+--------------------+\n",
      "|ListPrice|MakeFlag|           ModelName|ProductID|         ProductName|ProductNumber|StandardCost|SubCategoryID|                 _id|\n",
      "+---------+--------+--------------------+---------+--------------------+-------------+------------+-------------+--------------------+\n",
      "|   1431.5|       1|       HL Road Frame|      680|HL Road Frame - B...|   FR-R92B-58|     1059.31|           14|{6459758565a5eedc...|\n",
      "|   1431.5|       1|       HL Road Frame|      706|HL Road Frame - R...|   FR-R92R-58|     1059.31|           14|{6459758565a5eedc...|\n",
      "|    34.99|       0|           Sport-100|      707|Sport-100 Helmet,...|    HL-U509-R|     13.0863|           31|{6459758565a5eedc...|\n",
      "|    34.99|       0|           Sport-100|      708|Sport-100 Helmet,...|      HL-U509|     13.0863|           31|{6459758565a5eedc...|\n",
      "|      9.5|       0| Mountain Bike Socks|      709|Mountain Bike Soc...|    SO-B909-M|      3.3963|           23|{6459758565a5eedc...|\n",
      "|      9.5|       0| Mountain Bike Socks|      710|Mountain Bike Soc...|    SO-B909-L|      3.3963|           23|{6459758565a5eedc...|\n",
      "|    34.99|       0|           Sport-100|      711|Sport-100 Helmet,...|    HL-U509-B|     13.0863|           31|{6459758565a5eedc...|\n",
      "|     8.99|       0|         Cycling Cap|      712|        AWC Logo Cap|      CA-1098|      6.9223|           19|{6459758565a5eedc...|\n",
      "|    49.99|       0|Long-Sleeve Logo ...|      714|Long-Sleeve Logo ...|    LJ-0192-M|     38.4923|           21|{6459758565a5eedc...|\n",
      "|    49.99|       0|Long-Sleeve Logo ...|      715|Long-Sleeve Logo ...|    LJ-0192-L|     38.4923|           21|{6459758565a5eedc...|\n",
      "|    49.99|       0|Long-Sleeve Logo ...|      716|Long-Sleeve Logo ...|    LJ-0192-X|     38.4923|           21|{6459758565a5eedc...|\n",
      "|   1431.5|       1|       HL Road Frame|      717|HL Road Frame - R...|   FR-R92R-62|    868.6342|           14|{6459758565a5eedc...|\n",
      "|   1431.5|       1|       HL Road Frame|      718|HL Road Frame - R...|   FR-R92R-44|    868.6342|           14|{6459758565a5eedc...|\n",
      "|   1431.5|       1|       HL Road Frame|      719|HL Road Frame - R...|   FR-R92R-48|    868.6342|           14|{6459758565a5eedc...|\n",
      "|   1431.5|       1|       HL Road Frame|      720|HL Road Frame - R...|   FR-R92R-52|    868.6342|           14|{6459758565a5eedc...|\n",
      "|   1431.5|       1|       HL Road Frame|      721|HL Road Frame - R...|   FR-R92R-56|    868.6342|           14|{6459758565a5eedc...|\n",
      "|    49.99|       0|Long-Sleeve Logo ...|      713|Long-Sleeve Logo ...|    LJ-0192-S|     38.4923|           21|{6459758565a5eedc...|\n",
      "|   337.22|       1|       LL Road Frame|      722|LL Road Frame - B...|   FR-R38B-58|    204.6251|           14|{6459758565a5eedc...|\n",
      "|   337.22|       1|       LL Road Frame|      723|LL Road Frame - B...|   FR-R38B-60|    204.6251|           14|{6459758565a5eedc...|\n",
      "|   337.22|       1|       LL Road Frame|      724|LL Road Frame - B...|   FR-R38B-62|    204.6251|           14|{6459758565a5eedc...|\n",
      "+---------+--------+--------------------+---------+--------------------+-------------+------------+-------------+--------------------+\n",
      "only showing top 20 rows\n",
      "\n"
     ]
    }
   ],
   "source": [
    "spark.sql(\"SELECT * FROM external_products\").show()"
   ]
  },
  {
   "cell_type": "code",
   "execution_count": 7,
   "id": "9670eba0-043e-498d-aa99-36d5edaaee04",
   "metadata": {},
   "outputs": [
    {
     "name": "stdout",
     "output_type": "stream",
     "text": [
      "total 0\n"
     ]
    }
   ],
   "source": [
    "%ls -l spark-warehouse"
   ]
  },
  {
   "cell_type": "code",
   "execution_count": 8,
   "id": "aad32b1f-1ec9-42d0-ba47-42148b87fb1a",
   "metadata": {},
   "outputs": [
    {
     "data": {
      "text/plain": [
       "DataFrame[]"
      ]
     },
     "execution_count": 8,
     "metadata": {},
     "output_type": "execute_result"
    }
   ],
   "source": [
    "# spark.sql(\"CREATE TABLE ModelNames (ModelName string, ListPrice INT)\")\n",
    "spark.sql(\"CREATE TABLE ModelNames (ModelName string, ListPrice INT) USING parquet\")"
   ]
  },
  {
   "cell_type": "code",
   "execution_count": 9,
   "id": "cc538293-4d9b-42e4-9ac4-557c4fc6e27b",
   "metadata": {},
   "outputs": [
    {
     "name": "stdout",
     "output_type": "stream",
     "text": [
      "total 4\n",
      "drwxr-sr-x 2 jovyan users 4096 May  9 12:16 \u001b[0m\u001b[01;34mmodelnames\u001b[0m/\n"
     ]
    }
   ],
   "source": [
    "%ls -l spark-warehouse"
   ]
  },
  {
   "cell_type": "code",
   "execution_count": 10,
   "id": "2f5e918a-41d0-4977-a5b4-864cabae7c0e",
   "metadata": {},
   "outputs": [
    {
     "name": "stdout",
     "output_type": "stream",
     "text": [
      "total 0\n"
     ]
    }
   ],
   "source": [
    "%ls -l spark-warehouse/modelnames"
   ]
  },
  {
   "cell_type": "code",
   "execution_count": 11,
   "id": "d1929b19-2da4-4883-b0cd-c9179d91488d",
   "metadata": {},
   "outputs": [
    {
     "data": {
      "text/plain": [
       "DataFrame[]"
      ]
     },
     "execution_count": 11,
     "metadata": {},
     "output_type": "execute_result"
    }
   ],
   "source": [
    "spark.sql(\"INSERT OVERWRITE TABLE ModelNames SELECT ModelName, ListPrice FROM external_products\")"
   ]
  },
  {
   "cell_type": "code",
   "execution_count": 12,
   "id": "e9791ede-7795-4a37-bc32-d217f14341a0",
   "metadata": {},
   "outputs": [
    {
     "name": "stdout",
     "output_type": "stream",
     "text": [
      "total 4\n",
      "-rw-r--r-- 1 jovyan users 2866 May  9 12:16 part-00000-c635e084-d3f4-4d53-b486-856e7bf6670c-c000.snappy.parquet\n",
      "-rw-r--r-- 1 jovyan users    0 May  9 12:16 _SUCCESS\n"
     ]
    }
   ],
   "source": [
    "%ls -l spark-warehouse/modelnames"
   ]
  },
  {
   "cell_type": "code",
   "execution_count": 13,
   "id": "652671ec-2ef6-4fb9-8f80-5c723f727a4e",
   "metadata": {},
   "outputs": [
    {
     "name": "stdout",
     "output_type": "stream",
     "text": [
      "+--------------------+---------+\n",
      "|           ModelName|ListPrice|\n",
      "+--------------------+---------+\n",
      "|       HL Road Frame|     1431|\n",
      "|       HL Road Frame|     1431|\n",
      "|           Sport-100|       34|\n",
      "|           Sport-100|       34|\n",
      "| Mountain Bike Socks|        9|\n",
      "| Mountain Bike Socks|        9|\n",
      "|           Sport-100|       34|\n",
      "|         Cycling Cap|        8|\n",
      "|Long-Sleeve Logo ...|       49|\n",
      "|Long-Sleeve Logo ...|       49|\n",
      "|Long-Sleeve Logo ...|       49|\n",
      "|       HL Road Frame|     1431|\n",
      "|       HL Road Frame|     1431|\n",
      "|       HL Road Frame|     1431|\n",
      "|       HL Road Frame|     1431|\n",
      "|       HL Road Frame|     1431|\n",
      "|Long-Sleeve Logo ...|       49|\n",
      "|       LL Road Frame|      337|\n",
      "|       LL Road Frame|      337|\n",
      "|       LL Road Frame|      337|\n",
      "+--------------------+---------+\n",
      "only showing top 20 rows\n",
      "\n"
     ]
    }
   ],
   "source": [
    "spark.sql(\"SELECT * FROM ModelNames\").show()"
   ]
  },
  {
   "cell_type": "code",
   "execution_count": 14,
   "id": "7dcaf941-2d84-4570-a150-58b1b19644c8",
   "metadata": {},
   "outputs": [
    {
     "name": "stdout",
     "output_type": "stream",
     "text": [
      "total 4\n",
      "-rw-r--r-- 1 jovyan users 2866 May  9 12:16 part-00000-c635e084-d3f4-4d53-b486-856e7bf6670c-c000.snappy.parquet\n",
      "-rw-r--r-- 1 jovyan users    0 May  9 12:16 _SUCCESS\n"
     ]
    }
   ],
   "source": [
    "%ls -l spark-warehouse/modelnames"
   ]
  },
  {
   "cell_type": "code",
   "execution_count": 15,
   "id": "d684814f-1c0e-468d-b240-5acba070bea6",
   "metadata": {},
   "outputs": [
    {
     "data": {
      "text/plain": [
       "DataFrame[]"
      ]
     },
     "execution_count": 15,
     "metadata": {},
     "output_type": "execute_result"
    }
   ],
   "source": [
    "spark.sql(\"DROP TABLE external_products\")"
   ]
  },
  {
   "cell_type": "code",
   "execution_count": 16,
   "id": "6bbd340d-34df-42db-b39e-e17fca0f429b",
   "metadata": {},
   "outputs": [
    {
     "name": "stdout",
     "output_type": "stream",
     "text": [
      "+--------------------+---------+\n",
      "|           ModelName|ListPrice|\n",
      "+--------------------+---------+\n",
      "|       HL Road Frame|     1431|\n",
      "|       HL Road Frame|     1431|\n",
      "|           Sport-100|       34|\n",
      "|           Sport-100|       34|\n",
      "| Mountain Bike Socks|        9|\n",
      "| Mountain Bike Socks|        9|\n",
      "|           Sport-100|       34|\n",
      "|         Cycling Cap|        8|\n",
      "|Long-Sleeve Logo ...|       49|\n",
      "|Long-Sleeve Logo ...|       49|\n",
      "|Long-Sleeve Logo ...|       49|\n",
      "|       HL Road Frame|     1431|\n",
      "|       HL Road Frame|     1431|\n",
      "|       HL Road Frame|     1431|\n",
      "|       HL Road Frame|     1431|\n",
      "|       HL Road Frame|     1431|\n",
      "|Long-Sleeve Logo ...|       49|\n",
      "|       LL Road Frame|      337|\n",
      "|       LL Road Frame|      337|\n",
      "|       LL Road Frame|      337|\n",
      "+--------------------+---------+\n",
      "only showing top 20 rows\n",
      "\n"
     ]
    }
   ],
   "source": [
    "spark.sql(\"SELECT * FROM ModelNames\").show()"
   ]
  },
  {
   "cell_type": "code",
   "execution_count": 17,
   "id": "0f7217c3-50e5-46ee-a0d6-e6dac9401ab5",
   "metadata": {},
   "outputs": [
    {
     "data": {
      "text/plain": [
       "DataFrame[]"
      ]
     },
     "execution_count": 17,
     "metadata": {},
     "output_type": "execute_result"
    }
   ],
   "source": [
    "spark.sql(\"DROP TABLE ModelNames\")"
   ]
  },
  {
   "cell_type": "code",
   "execution_count": 18,
   "id": "775c8348-1300-4d1b-91f1-98c2165388f9",
   "metadata": {},
   "outputs": [
    {
     "name": "stdout",
     "output_type": "stream",
     "text": [
      "total 0\n"
     ]
    }
   ],
   "source": [
    "%ls -l spark-warehouse"
   ]
  },
  {
   "cell_type": "code",
   "execution_count": null,
   "id": "f79072ef-c71f-43e2-921a-396e78ba8ee2",
   "metadata": {},
   "outputs": [],
   "source": []
  }
 ],
 "metadata": {
  "kernelspec": {
   "display_name": "Python 3 (ipykernel)",
   "language": "python",
   "name": "python3"
  },
  "language_info": {
   "codemirror_mode": {
    "name": "ipython",
    "version": 3
   },
   "file_extension": ".py",
   "mimetype": "text/x-python",
   "name": "python",
   "nbconvert_exporter": "python",
   "pygments_lexer": "ipython3",
   "version": "3.9.7"
  }
 },
 "nbformat": 4,
 "nbformat_minor": 5
}
